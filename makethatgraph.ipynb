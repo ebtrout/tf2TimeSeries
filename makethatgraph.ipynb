{
 "cells": [
  {
   "cell_type": "code",
   "execution_count": null,
   "id": "781042ed",
   "metadata": {},
   "outputs": [
    {
     "name": "stderr",
     "output_type": "stream",
     "text": [
      "C:\\Users\\emant\\AppData\\Local\\Temp\\ipykernel_8568\\3048099115.py:13: UserWarning: Could not infer format, so each element will be parsed individually, falling back to `dateutil`. To ensure parsing is consistent and as-expected, please specify a format.\n",
      "  fc['date'] = pd.to_datetime(fc['date'])\n"
     ]
    }
   ],
   "source": [
    "import pandas as pd\n",
    "import numpy as np\n",
    "import plotly.graph_objects as go\n",
    "import matplotlib.pyplot as plt\n",
    "\n",
    "fc = pd.read_csv('data/forecast.csv')\n",
    "tf2Key = pd.read_csv('data/tf2Key.csv')\n",
    "\n",
    "#\n",
    "fc = fc[['.mean','.model']]\n",
    "\n",
    "fc = fc.rename(columns={'.mean': 'price', '.model': 'date'})\n",
    "fc['date'] = pd.to_datetime(fc['date'])\n",
    "tf2Key = tf2Key[['dates','avgVal']]\n",
    "\n",
    "tf2Key['dates'] = pd.to_datetime(tf2Key['dates'])\n",
    "tf2Key = tf2Key.rename(columns={'dates': 'date', 'avgVal': 'price'}) \n",
    "tf2Key.dropna(inplace=True)  \n",
    "\n",
    "fc = pd.concat([tf2Key,fc], axis=0)"
   ]
  },
  {
   "cell_type": "code",
   "execution_count": 14,
   "id": "884c6ee8",
   "metadata": {},
   "outputs": [
    {
     "data": {
      "image/png": "[encoded data removed]",
      "text/plain": [
       "<Figure size 640x480 with 1 Axes>"
      ]
     },
     "metadata": {},
     "output_type": "display_data"
    }
   ],
   "source": [
    "plt.plot(fc['date'], fc['price'], c='blue', label='Forecast')\n",
    "plt.show()"
   ]
  },
  {
   "cell_type": "code",
   "execution_count": null,
   "id": "fe82c5e6",
   "metadata": {},
   "outputs": [],
   "source": [
    "fc.to_csv('data/graph.csv', index=False)"
   ]
  },
  {
   "cell_type": "code",
   "execution_count": null,
   "id": "16415928",
   "metadata": {},
   "outputs": [
    {
     "data": {
      "text/plain": [
       "'sample_forecast_interactive.html'"
      ]
     },
     "execution_count": 27,
     "metadata": {},
     "output_type": "execute_result"
    }
   ],
   "source": [
    "import pandas as pd\n",
    "import numpy as np\n",
    "import plotly.graph_objects as go\n",
    "\n",
    "df = fc.copy()\n",
    "# Find the first point where price reaches or exceeds 100\n",
    "df_forecast = df[df['price'] >= 100]\n",
    "special_point = df_forecast.iloc[0] if not df_forecast.empty else None\n",
    "\n",
    "# Create the basic time series trace\n",
    "trace_main = go.Scatter(\n",
    "    x=df['date'],\n",
    "    y=df['price'],\n",
    "    mode='lines+markers',\n",
    "    name='',\n",
    "    hovertemplate='Date: %{x|%b %Y}<br>Price: %{y:.2f}',\n",
    ")\n",
    "\n",
    "# Add a special point with a custom tooltip if applicable\n",
    "trace_special = go.Scatter()\n",
    "if special_point is not None:\n",
    "    trace_special = go.Scatter(\n",
    "        x=[special_point['date']],\n",
    "        y=[special_point['price']],\n",
    "        mode='markers',\n",
    "        name='Forecast = 100',\n",
    "        marker=dict(color='red', size=10),\n",
    "        hovertemplate='Forecast hits 100<br>Date: %{x|%b %Y}<br>Price: %{y:.2f}',\n",
    "    )\n",
    "\n",
    "# Combine and layout\n",
    "fig = go.Figure([trace_main, trace_special])\n",
    "fig.update_layout(\n",
    "    title='Tf2 Key Price Forecast in Refined Metal',\n",
    "    xaxis_title='Date',\n",
    "    yaxis_title='Price (in Refined Metal)',\n",
    "    legend_title='',\n",
    "    legend=dict(\n",
    "        orientation='h',\n",
    "        yanchor='bottom',\n",
    "        y=1.02,\n",
    "        xanchor='right',\n",
    "        x=1,\n",
    "    ),\n",
    "    hovermode='x unified',\n",
    ")\n",
    "fig.update_layout(template=\"seaborn\")\n",
    "\n",
    "# Save as interactive HTML\n",
    "output_path = \"index.html\"\n",
    "fig.write_html(output_path,include_plotlyjs='cdn')\n",
    "\n",
    "output_path\n"
   ]
  }
 ],
 "metadata": {
  "kernelspec": {
   "display_name": "Python 3",
   "language": "python",
   "name": "python3"
  },
  "language_info": {
   "codemirror_mode": {
    "name": "ipython",
    "version": 3
   },
   "file_extension": ".py",
   "mimetype": "text/x-python",
   "name": "python",
   "nbconvert_exporter": "python",
   "pygments_lexer": "ipython3",
   "version": "3.12.4"
  }
 },
 "nbformat": 4,
 "nbformat_minor": 5
}
