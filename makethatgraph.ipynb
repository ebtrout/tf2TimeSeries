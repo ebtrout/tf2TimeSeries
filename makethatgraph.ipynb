{
 "cells": [
  {
   "cell_type": "code",
   "execution_count": 37,
   "id": "781042ed",
   "metadata": {},
   "outputs": [
    {
     "name": "stderr",
     "output_type": "stream",
     "text": [
      "C:\\Users\\emant\\AppData\\Local\\Temp\\ipykernel_10880\\2770256803.py:13: UserWarning:\n",
      "\n",
      "Could not infer format, so each element will be parsed individually, falling back to `dateutil`. To ensure parsing is consistent and as-expected, please specify a format.\n",
      "\n"
     ]
    }
   ],
   "source": [
    "import pandas as pd\n",
    "import numpy as np\n",
    "import plotly.graph_objects as go\n",
    "import matplotlib.pyplot as plt\n",
    "\n",
    "fc = pd.read_csv('data/forecast.csv')\n",
    "tf2Key = pd.read_csv('data/tf2Key.csv')\n",
    "\n",
    "\n",
    "fc = fc[['dates','80%_lower','.mean','80%_upper']]\n",
    "\n",
    "fc = fc.rename(columns={'.mean': 'price', 'dates': 'date', '80%_lower': 'lower', '80%_upper': 'upper'})\n",
    "fc['date'] = pd.to_datetime(fc['date'])\n",
    "tf2Key = tf2Key[['dates','avgVal']]\n",
    "\n",
    "tf2Key['dates'] = pd.to_datetime(tf2Key['dates'])\n",
    "tf2Key = tf2Key.rename(columns={'dates': 'date', 'avgVal': 'price'}) \n",
    "tf2Key.dropna(inplace=True)  \n",
    "\n",
    "fc = pd.concat([tf2Key,fc], axis=0)"
   ]
  },
  {
   "cell_type": "code",
   "execution_count": 38,
   "id": "884c6ee8",
   "metadata": {},
   "outputs": [
    {
     "data": {
      "image/png": "[encoded data removed]",
      "text/plain": [
       "<Figure size 640x480 with 1 Axes>"
      ]
     },
     "metadata": {},
     "output_type": "display_data"
    }
   ],
   "source": [
    "plt.plot(fc['date'], fc['price'], c='blue', label='Forecast')\n",
    "plt.show()"
   ]
  },
  {
   "cell_type": "code",
   "execution_count": 39,
   "id": "fe82c5e6",
   "metadata": {},
   "outputs": [],
   "source": [
    "fc.to_csv('data/graph.csv', index=False)"
   ]
  },
  {
   "cell_type": "code",
   "execution_count": 40,
   "id": "d64f45e5",
   "metadata": {},
   "outputs": [
    {
     "data": {
      "text/plain": [
       "'index.html'"
      ]
     },
     "execution_count": 40,
     "metadata": {},
     "output_type": "execute_result"
    }
   ],
   "source": [
    "import pandas as pd\n",
    "import numpy as np\n",
    "import plotly.graph_objects as go\n",
    "\n",
    "# Ensure 'date' is datetime\n",
    "df = fc.copy()\n",
    "df['date'] = pd.to_datetime(df['date'])\n",
    "\n",
    "# Define forecast start\n",
    "forecast_start = pd.Timestamp('2025-02-01')\n",
    "df['is_forecast'] = df['date'] >= forecast_start\n",
    "\n",
    "# Split historical and forecast\n",
    "df_hist = df[df['is_forecast'] == False]\n",
    "df_fore = df[df['is_forecast'] == True]\n",
    "\n",
    "# Create the main historical trace\n",
    "trace_hist = go.Scatter(\n",
    "    x=df_hist['date'],\n",
    "    y=df_hist['price'],\n",
    "    mode='lines+markers',\n",
    "    name='Price History',\n",
    "    line=dict(color='blue'),\n",
    "    hovertemplate='%{y:.2f}',\n",
    ")\n",
    "\n",
    "# Bridge last hist point to forecast\n",
    "bridge_point = df_hist.iloc[[-1]]\n",
    "df_fore_with_bridge = pd.concat([bridge_point, df_fore]).sort_values('date')\n",
    "\n",
    "trace_fore = go.Scatter(\n",
    "    x=df_fore_with_bridge['date'],\n",
    "    y=df_fore_with_bridge['price'],\n",
    "    mode='lines+markers',\n",
    "    name='Forecast',\n",
    "    line=dict(color='green', dash='dash'),\n",
    "    hovertemplate=(\n",
    "        '%{y:.2f}<br>'\n",
    "        'Upper: %{customdata[0]:.2f}<br>'\n",
    "        'Lower: %{customdata[1]:.2f}'\n",
    "    ),\n",
    "    customdata=np.stack((\n",
    "        df_fore_with_bridge['upper'],\n",
    "        df_fore_with_bridge['lower']\n",
    "    ), axis=-1),\n",
    ")\n",
    "\n",
    "\n",
    "# Confidence interval band (for forecast only)\n",
    "trace_ci = go.Scatter(\n",
    "    x=pd.concat([df_fore['date'], df_fore['date'][::-1]]),\n",
    "    y=pd.concat([df_fore['upper'], df_fore['lower'][::-1]]),\n",
    "    fill='toself',\n",
    "    fillcolor='rgba(0, 128, 0, 0.2)',  # green with opacity\n",
    "    line=dict(color='rgba(255,255,255,0)'),\n",
    "    hoverinfo='skip',\n",
    "    name='80% CI',\n",
    "    showlegend=True\n",
    ")\n",
    "\n",
    "# Highlight the first forecasted point where price >= 100\n",
    "highlight_point = df_fore[df_fore['price'] >= 100]\n",
    "trace_special = go.Scatter()\n",
    "if not highlight_point.empty:\n",
    "    first_hit = highlight_point.iloc[0]\n",
    "    trace_special = go.Scatter(\n",
    "        x=[first_hit['date']],\n",
    "        y=[first_hit['price']],\n",
    "        mode='markers',\n",
    "        name='Forecast = 100',\n",
    "        marker=dict(color='red', size=10),\n",
    "        hovertemplate='',\n",
    "    )\n",
    "\n",
    "# Combine all traces\n",
    "fig = go.Figure([trace_hist, trace_fore, trace_ci, trace_special])\n",
    "\n",
    "# Layout\n",
    "fig.update_layout(\n",
    "    title='Tf2 Key Price Forecast in Refined Metal',\n",
    "    xaxis_title='Date',\n",
    "    yaxis_title='Price (in Refined Metal)',\n",
    "    legend_title='',\n",
    "    legend=dict(\n",
    "        orientation='h',\n",
    "        yanchor='bottom',\n",
    "        y=1.02,\n",
    "        xanchor='right',\n",
    "        x=1,\n",
    "    ),\n",
    "    hovermode='x unified',\n",
    "    template='seaborn',\n",
    ")\n",
    "\n",
    "# Save as interactive HTML\n",
    "output_path = \"index.html\"\n",
    "fig.write_html(output_path, include_plotlyjs='cdn')\n",
    "output_path\n"
   ]
  }
 ],
 "metadata": {
  "kernelspec": {
   "display_name": "Python 3",
   "language": "python",
   "name": "python3"
  },
  "language_info": {
   "codemirror_mode": {
    "name": "ipython",
    "version": 3
   },
   "file_extension": ".py",
   "mimetype": "text/x-python",
   "name": "python",
   "nbconvert_exporter": "python",
   "pygments_lexer": "ipython3",
   "version": "3.13.3"
  }
 },
 "nbformat": 4,
 "nbformat_minor": 5
}
