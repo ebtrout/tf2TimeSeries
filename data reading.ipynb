{
 "cells": [
  {
   "cell_type": "markdown",
   "metadata": {},
   "source": [
    "## Import Data"
   ]
  },
  {
   "cell_type": "code",
   "execution_count": 1,
   "metadata": {},
   "outputs": [],
   "source": [
    "\n",
    "import requests\n",
    "import pandas as pd\n",
    "import json\n",
    "\n",
    "API_KEY = \"67ae48d1769ef00a170769e5\"\n",
    "\n",
    "params = {\n",
    "    \"key\": API_KEY,\n",
    "    \"appid\": 440,\n",
    "    \"item\": \"Mann Co. Supply Crate Key\",\n",
    "    \"quality\": 6,\n",
    "    \"priceindex\": 0\n",
    "}\n",
    "\n",
    "url = \"https://backpack.tf/api/IGetPriceHistory/v1\"\n",
    "\n",
    "response = requests.get(url, params=params)\n",
    "\n",
    "if response.status_code == 200:\n",
    "    data = response.json()\n"
   ]
  },
  {
   "cell_type": "markdown",
   "metadata": {},
   "source": [
    "## Get timestamps, values, and dates"
   ]
  },
  {
   "cell_type": "code",
   "execution_count": 2,
   "metadata": {},
   "outputs": [],
   "source": [
    "from datetime import *\n",
    "\n",
    "history = data.get(\"response\", {}).get(\"history\", {})\n",
    "\n",
    "timestamps = []\n",
    "readables = []\n",
    "values = []\n",
    "dateObjs = []\n",
    "for i in range(0,len(history)):\n",
    "   timestamp = (history[i][\"timestamp\"])\n",
    "   value = (history[i][\"value\"])\n",
    "   readable = datetime.fromtimestamp(timestamp,UTC).strftime('%Y-%m-%d %H:%M:%S UTC') if timestamp else \"Unknown Date\"\n",
    "   dateObj = datetime.fromtimestamp(timestamp,UTC)\n",
    "   timestamps.append(timestamp)\n",
    "   readables.append(readable)\n",
    "   values.append(value)\n",
    "   dateObjs.append(dateObj)\n",
    "\n",
    "\n"
   ]
  },
  {
   "cell_type": "markdown",
   "metadata": {},
   "source": [
    "## Create list of months\n",
    "Ranges from the beginning of data to end of data"
   ]
  },
  {
   "cell_type": "code",
   "execution_count": 3,
   "metadata": {},
   "outputs": [],
   "source": [
    "dates = pd.date_range(start=\"2012-07-01\", end=\"2025-02-01\", freq=\"MS\").tolist()  # 'MS' means Month Start"
   ]
  },
  {
   "cell_type": "markdown",
   "metadata": {},
   "source": [
    "## Consolidate data monthly"
   ]
  },
  {
   "cell_type": "code",
   "execution_count": 4,
   "metadata": {},
   "outputs": [],
   "source": [
    "# Remove timezone values for dateObjs from real data \n",
    "dateObjs = [dt.replace(tzinfo=None) for dt in dateObjs]\n",
    "\n",
    "cleanList = []\n",
    "for i in range(0,len(dates)- 1):\n",
    "    feasible = []\n",
    "    for j in range(0,len(dateObjs)):\n",
    "        if dateObjs[j] > dates[i] and dateObjs[j] < dates[i+1]:\n",
    "            feasible.append(values[j])\n",
    "    cleanList.append(feasible)\n",
    "        "
   ]
  },
  {
   "cell_type": "code",
   "execution_count": 5,
   "metadata": {},
   "outputs": [],
   "source": [
    "import pandas as pd\n",
    "test = pd.DataFrame({\"dates\": dates[0:len(dates) -1], \"values\" : cleanList})\n",
    "\n",
    "avgList = []\n",
    "for i in range(0,len(test)):\n",
    "    avgList.append(pd.Series(test.loc[i,\"values\"]).mean())\n",
    "    \n",
    "test['avgVal'] = avgList"
   ]
  },
  {
   "cell_type": "code",
   "execution_count": 6,
   "metadata": {},
   "outputs": [
    {
     "data": {
      "text/plain": [
       "[<matplotlib.lines.Line2D at 0x27fedeb1090>]"
      ]
     },
     "execution_count": 6,
     "metadata": {},
     "output_type": "execute_result"
    },
    {
     "data": {
      "image/png": "[encoded data removed]",
      "text/plain": [
       "<Figure size 640x480 with 1 Axes>"
      ]
     },
     "metadata": {},
     "output_type": "display_data"
    }
   ],
   "source": [
    "import matplotlib.pyplot as plt\n",
    "plt.plot(test['dates'],test['avgVal'])"
   ]
  },
  {
   "cell_type": "code",
   "execution_count": 11,
   "metadata": {},
   "outputs": [],
   "source": [
    "test.to_csv(\"tf2Key.csv\")"
   ]
  },
  {
   "cell_type": "code",
   "execution_count": null,
   "metadata": {},
   "outputs": [
    {
     "name": "stdout",
     "output_type": "stream",
     "text": [
      "Failed to retrieve page: 403\n"
     ]
    }
   ],
   "source": [
    "import requests\n",
    "from bs4 import BeautifulSoup\n",
    "\n",
    "# URL of the SteamDB page for TF2\n",
    "url = \"https://steamdb.info/app/440\"\n",
    "\n",
    "# Headers (to mimic a real browser)\n",
    "headers = {\n",
    "    \"User-Agent\": \"Mozilla/5.0 (Windows NT 10.0; Win64; x64) AppleWebKit/537.36 (KHTML, like Gecko) Chrome/120.0.0.0 Safari/537.36\"\n",
    "}\n",
    "\n",
    "# Make the request\n",
    "response = requests.get(url, headers=headers)\n",
    "\n",
    "# Check if the request was successful\n",
    "if response.status_code == 200:\n",
    "    soup = BeautifulSoup(response.text, \"html.parser\")\n",
    "\n",
    "    # Find the peak player count\n",
    "    peak_player_tag = soup.find(\"td\", class_=\"text-right\", attrs={\"data-sort\": True})\n",
    "\n",
    "    if peak_player_tag:\n",
    "        peak_players = peak_player_tag.text.strip()\n",
    "        print(f\"Peak Players: {peak_players}\")\n",
    "    else:\n",
    "        print(\"Could not find peak player count.\")\n",
    "else:\n",
    "    print(f\"Failed to retrieve page: {response.status_code}\")\n"
   ]
  },
  {
   "cell_type": "code",
   "execution_count": 2,
   "metadata": {},
   "outputs": [
    {
     "name": "stderr",
     "output_type": "stream",
     "text": [
      "[nltk_data] Downloading package wordnet to\n",
      "[nltk_data]     C:\\Users\\emant\\AppData\\Roaming\\nltk_data...\n"
     ]
    },
    {
     "data": {
      "text/plain": [
       "True"
      ]
     },
     "execution_count": 2,
     "metadata": {},
     "output_type": "execute_result"
    }
   ],
   "source": [
    "import nltk\n",
    "nltk.download('wordnet')"
   ]
  },
  {
   "cell_type": "code",
   "execution_count": 4,
   "metadata": {},
   "outputs": [
    {
     "name": "stdout",
     "output_type": "stream",
     "text": [
      "['large', 'nifty', 'capital', 'not_bad', 'expectant', 'swell', 'enceinte', 'big', 'groovy', 'dandy', 'outstanding', 'slap-up', 'heavy', 'with_child', 'smashing', 'cracking', 'keen', 'gravid', 'peachy', 'great', 'bang-up', 'corking', 'majuscule', 'bully', 'neat']\n"
     ]
    }
   ],
   "source": [
    "from nltk.corpus import wordnet\n",
    "\n",
    "def get_synonyms(word):\n",
    "    synonyms = set()\n",
    "    for synset in wordnet.synsets(word):\n",
    "        for lemma in synset.lemmas():\n",
    "            synonyms.add(lemma.name())  # Extracting the synonym name\n",
    "    return list(synonyms)\n",
    "\n",
    "# Example usage:\n",
    "print(get_synonyms(\"great\"))\n",
    "\n",
    "\n"
   ]
  }
 ],
 "metadata": {
  "kernelspec": {
   "display_name": "Python 3",
   "language": "python",
   "name": "python3"
  },
  "language_info": {
   "codemirror_mode": {
    "name": "ipython",
    "version": 3
   },
   "file_extension": ".py",
   "mimetype": "text/x-python",
   "name": "python",
   "nbconvert_exporter": "python",
   "pygments_lexer": "ipython3",
   "version": "3.13.1"
  }
 },
 "nbformat": 4,
 "nbformat_minor": 2
}
