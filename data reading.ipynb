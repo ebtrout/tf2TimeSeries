{
 "cells": [
  {
   "cell_type": "markdown",
   "metadata": {},
   "source": [
    "## Import Data"
   ]
  },
  {
   "cell_type": "code",
   "execution_count": 17,
   "metadata": {},
   "outputs": [],
   "source": [
    "import requests\n",
    "import pandas as pd\n",
    "import json\n",
    "\n",
    "# Open the file in read mode\n",
    "with open('api.txt', 'r') as file:\n",
    "    content = file.read()\n",
    "\n",
    "\n",
    "API_KEY = content\n",
    "\n",
    "params = {\n",
    "    \"key\": API_KEY,\n",
    "    \"appid\": 440,\n",
    "    \"item\": \"Mann Co. Supply Crate Key\",\n",
    "    \"quality\": 6,\n",
    "    \"priceindex\": 0\n",
    "}\n",
    "\n",
    "url = \"https://backpack.tf/api/IGetPriceHistory/v1\"\n",
    "\n",
    "response = requests.get(url, params=params)\n",
    "\n",
    "if response.status_code == 200:\n",
    "    data = response.json()\n"
   ]
  },
  {
   "cell_type": "markdown",
   "metadata": {},
   "source": [
    "## Get timestamps, values, and dates"
   ]
  },
  {
   "cell_type": "code",
   "execution_count": 19,
   "metadata": {},
   "outputs": [],
   "source": [
    "from datetime import *\n",
    "\n",
    "history = data.get(\"response\", {}).get(\"history\", {})\n",
    "\n",
    "timestamps = []\n",
    "readables = []\n",
    "values = []\n",
    "dateObjs = []\n",
    "for i in range(0,len(history)):\n",
    "   timestamp = (history[i][\"timestamp\"])\n",
    "   value = (history[i][\"value\"])\n",
    "   readable = datetime.fromtimestamp(timestamp,UTC).strftime('%Y-%m-%d %H:%M:%S UTC') if timestamp else \"Unknown Date\"\n",
    "   dateObj = datetime.fromtimestamp(timestamp,UTC)\n",
    "   timestamps.append(timestamp)\n",
    "   readables.append(readable)\n",
    "   values.append(value)\n",
    "   dateObjs.append(dateObj)\n",
    "\n",
    "\n"
   ]
  },
  {
   "cell_type": "markdown",
   "metadata": {},
   "source": [
    "## Create list of months\n",
    "Ranges from the beginning of data to end of data"
   ]
  },
  {
   "cell_type": "code",
   "execution_count": null,
   "metadata": {},
   "outputs": [],
   "source": [
    "dates = pd.date_range(start=\"2012-07-01\", end=\"2025-02-01\", freq=\"MS\").tolist()  # 'MS' means Month Start"
   ]
  },
  {
   "cell_type": "markdown",
   "metadata": {},
   "source": [
    "## Consolidate data monthly"
   ]
  },
  {
   "cell_type": "code",
   "execution_count": 21,
   "metadata": {},
   "outputs": [],
   "source": [
    "# Remove timezone values for dateObjs from real data \n",
    "dateObjs = [dt.replace(tzinfo=None) for dt in dateObjs]\n",
    "\n",
    "cleanList = []\n",
    "for i in range(0,len(dates)- 1):\n",
    "    feasible = []\n",
    "    for j in range(0,len(dateObjs)):\n",
    "        if dateObjs[j] > dates[i] and dateObjs[j] < dates[i+1]:\n",
    "            feasible.append(values[j])\n",
    "    cleanList.append(feasible)\n",
    "        "
   ]
  },
  {
   "cell_type": "code",
   "execution_count": 22,
   "metadata": {},
   "outputs": [],
   "source": [
    "import pandas as pd\n",
    "test = pd.DataFrame({\"dates\": dates[0:len(dates) -1], \"values\" : cleanList})\n",
    "\n",
    "avgList = []\n",
    "for i in range(0,len(test)):\n",
    "    avgList.append(pd.Series(test.loc[i,\"values\"]).mean())\n",
    "    \n",
    "test['avgVal'] = avgList"
   ]
  },
  {
   "cell_type": "code",
   "execution_count": 23,
   "metadata": {},
   "outputs": [
    {
     "data": {
      "text/plain": [
       "[<matplotlib.lines.Line2D at 0x21f06681450>]"
      ]
     },
     "execution_count": 23,
     "metadata": {},
     "output_type": "execute_result"
    },
    {
     "data": {
      "image/png": "[encoded data removed]",
      "text/plain": [
       "<Figure size 640x480 with 1 Axes>"
      ]
     },
     "metadata": {},
     "output_type": "display_data"
    }
   ],
   "source": [
    "import matplotlib.pyplot as plt\n",
    "plt.plot(test['dates'],test['avgVal'])"
   ]
  },
  {
   "cell_type": "code",
   "execution_count": null,
   "metadata": {},
   "outputs": [],
   "source": [
    "test.to_csv(\"data/tf2Key.csv\")"
   ]
  }
 ],
 "metadata": {
  "kernelspec": {
   "display_name": "Python 3",
   "language": "python",
   "name": "python3"
  },
  "language_info": {
   "codemirror_mode": {
    "name": "ipython",
    "version": 3
   },
   "file_extension": ".py",
   "mimetype": "text/x-python",
   "name": "python",
   "nbconvert_exporter": "python",
   "pygments_lexer": "ipython3",
   "version": "3.13.3"
  }
 },
 "nbformat": 4,
 "nbformat_minor": 2
}
